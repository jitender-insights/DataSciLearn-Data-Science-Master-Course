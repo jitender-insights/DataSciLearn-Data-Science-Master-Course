{
  "nbformat": 4,
  "nbformat_minor": 0,
  "metadata": {
    "colab": {
      "provenance": [],
      "gpuType": "T4"
    },
    "kernelspec": {
      "name": "python3",
      "display_name": "Python 3"
    },
    "language_info": {
      "name": "python"
    },
    "accelerator": "GPU"
  },
  "cells": [
    {
      "cell_type": "markdown",
      "source": [
        "## Predicting stock prices using historical data\n",
        "\n",
        "We'll use a dataset of stock prices and build both an RNN and an LSTM model to predict the next day's closing price."
      ],
      "metadata": {
        "id": "gLsKOo3rAhaq"
      }
    },
    {
      "cell_type": "markdown",
      "source": [
        "## Dataset"
      ],
      "metadata": {
        "id": "ryVlgIT9At5d"
      }
    },
    {
      "cell_type": "code",
      "source": [
        "!pip install yfinance"
      ],
      "metadata": {
        "colab": {
          "base_uri": "https://localhost:8080/"
        },
        "id": "jif92qpkEH0q",
        "outputId": "4d98cef8-dd21-4d55-c00f-489acb099818"
      },
      "execution_count": 1,
      "outputs": [
        {
          "output_type": "stream",
          "name": "stdout",
          "text": [
            "Requirement already satisfied: yfinance in /usr/local/lib/python3.10/dist-packages (0.2.40)\n",
            "Requirement already satisfied: pandas>=1.3.0 in /usr/local/lib/python3.10/dist-packages (from yfinance) (2.0.3)\n",
            "Requirement already satisfied: numpy>=1.16.5 in /usr/local/lib/python3.10/dist-packages (from yfinance) (1.25.2)\n",
            "Requirement already satisfied: requests>=2.31 in /usr/local/lib/python3.10/dist-packages (from yfinance) (2.31.0)\n",
            "Requirement already satisfied: multitasking>=0.0.7 in /usr/local/lib/python3.10/dist-packages (from yfinance) (0.0.11)\n",
            "Requirement already satisfied: lxml>=4.9.1 in /usr/local/lib/python3.10/dist-packages (from yfinance) (4.9.4)\n",
            "Requirement already satisfied: platformdirs>=2.0.0 in /usr/local/lib/python3.10/dist-packages (from yfinance) (4.2.2)\n",
            "Requirement already satisfied: pytz>=2022.5 in /usr/local/lib/python3.10/dist-packages (from yfinance) (2023.4)\n",
            "Requirement already satisfied: frozendict>=2.3.4 in /usr/local/lib/python3.10/dist-packages (from yfinance) (2.4.4)\n",
            "Requirement already satisfied: peewee>=3.16.2 in /usr/local/lib/python3.10/dist-packages (from yfinance) (3.17.5)\n",
            "Requirement already satisfied: beautifulsoup4>=4.11.1 in /usr/local/lib/python3.10/dist-packages (from yfinance) (4.12.3)\n",
            "Requirement already satisfied: html5lib>=1.1 in /usr/local/lib/python3.10/dist-packages (from yfinance) (1.1)\n",
            "Requirement already satisfied: soupsieve>1.2 in /usr/local/lib/python3.10/dist-packages (from beautifulsoup4>=4.11.1->yfinance) (2.5)\n",
            "Requirement already satisfied: six>=1.9 in /usr/local/lib/python3.10/dist-packages (from html5lib>=1.1->yfinance) (1.16.0)\n",
            "Requirement already satisfied: webencodings in /usr/local/lib/python3.10/dist-packages (from html5lib>=1.1->yfinance) (0.5.1)\n",
            "Requirement already satisfied: python-dateutil>=2.8.2 in /usr/local/lib/python3.10/dist-packages (from pandas>=1.3.0->yfinance) (2.8.2)\n",
            "Requirement already satisfied: tzdata>=2022.1 in /usr/local/lib/python3.10/dist-packages (from pandas>=1.3.0->yfinance) (2024.1)\n",
            "Requirement already satisfied: charset-normalizer<4,>=2 in /usr/local/lib/python3.10/dist-packages (from requests>=2.31->yfinance) (3.3.2)\n",
            "Requirement already satisfied: idna<4,>=2.5 in /usr/local/lib/python3.10/dist-packages (from requests>=2.31->yfinance) (3.7)\n",
            "Requirement already satisfied: urllib3<3,>=1.21.1 in /usr/local/lib/python3.10/dist-packages (from requests>=2.31->yfinance) (2.0.7)\n",
            "Requirement already satisfied: certifi>=2017.4.17 in /usr/local/lib/python3.10/dist-packages (from requests>=2.31->yfinance) (2024.6.2)\n"
          ]
        }
      ]
    },
    {
      "cell_type": "markdown",
      "source": [
        "## Importing Libraries"
      ],
      "metadata": {
        "id": "9FE2mAh6BH6W"
      }
    },
    {
      "cell_type": "code",
      "source": [
        "import numpy as np\n",
        "import pandas as pd\n",
        "import yfinance as yf\n",
        "import tensorflow as tf\n",
        "from sklearn.preprocessing import MinMaxScaler\n",
        "from sklearn.metrics import mean_squared_error , r2_score\n",
        "from tensorflow.keras.models import Sequential\n",
        "from tensorflow.keras.layers import SimpleRNN , LSTM , Dense\n",
        "import matplotlib.pyplot as plt"
      ],
      "metadata": {
        "id": "-DvGSfuFBJcI"
      },
      "execution_count": 2,
      "outputs": []
    },
    {
      "cell_type": "markdown",
      "source": [
        "## Fetching Data\n",
        "Let's use Apple (AAPL) stock data for this example."
      ],
      "metadata": {
        "id": "ZWqmnFLzBMVS"
      }
    },
    {
      "cell_type": "code",
      "source": [
        "# Downloading the dtock data\n",
        "df = yf.download('AAPL',start='2020-01-01' , end='2024-07-05')\n",
        "df"
      ],
      "metadata": {
        "colab": {
          "base_uri": "https://localhost:8080/",
          "height": 472
        },
        "id": "4Y6YHrIABP7h",
        "outputId": "4f504b8f-30f4-43d9-ec53-6b1d4a6a6910"
      },
      "execution_count": 3,
      "outputs": [
        {
          "output_type": "stream",
          "name": "stderr",
          "text": [
            "\r[*********************100%%**********************]  1 of 1 completed\n"
          ]
        },
        {
          "output_type": "execute_result",
          "data": {
            "text/plain": [
              "                  Open        High         Low       Close   Adj Close     Volume\n",
              "Date                                                                             \n",
              "2020-01-02   74.059998   75.150002   73.797501   75.087502   72.960464  135480400\n",
              "2020-01-03   74.287498   75.144997   74.125000   74.357498   72.251152  146322800\n",
              "2020-01-06   73.447502   74.989998   73.187500   74.949997   72.826866  118387200\n",
              "2020-01-07   74.959999   75.224998   74.370003   74.597504   72.484329  108872000\n",
              "2020-01-08   74.290001   76.110001   74.290001   75.797501   73.650337  132079200\n",
              "...                ...         ...         ...         ...         ...        ...\n",
              "2024-06-27  214.690002  215.740005  212.350006  214.100006  214.100006   49772700\n",
              "2024-06-28  215.770004  216.070007  210.300003  210.619995  210.619995   82542700\n",
              "2024-07-01  212.089996  217.509995  211.919998  216.750000  216.750000   60402900\n",
              "2024-07-02  216.149994  220.380005  215.100006  220.270004  220.270004   58046200\n",
              "2024-07-03  220.000000  221.550003  219.029999  221.550003  221.550003   37369800\n",
              "\n",
              "[1133 rows x 6 columns]"
            ],
            "text/html": [
              "\n",
              "  <div id=\"df-95cc3fc7-4d45-48c5-91f3-256e80e09d08\" class=\"colab-df-container\">\n",
              "    <div>\n",
              "<style scoped>\n",
              "    .dataframe tbody tr th:only-of-type {\n",
              "        vertical-align: middle;\n",
              "    }\n",
              "\n",
              "    .dataframe tbody tr th {\n",
              "        vertical-align: top;\n",
              "    }\n",
              "\n",
              "    .dataframe thead th {\n",
              "        text-align: right;\n",
              "    }\n",
              "</style>\n",
              "<table border=\"1\" class=\"dataframe\">\n",
              "  <thead>\n",
              "    <tr style=\"text-align: right;\">\n",
              "      <th></th>\n",
              "      <th>Open</th>\n",
              "      <th>High</th>\n",
              "      <th>Low</th>\n",
              "      <th>Close</th>\n",
              "      <th>Adj Close</th>\n",
              "      <th>Volume</th>\n",
              "    </tr>\n",
              "    <tr>\n",
              "      <th>Date</th>\n",
              "      <th></th>\n",
              "      <th></th>\n",
              "      <th></th>\n",
              "      <th></th>\n",
              "      <th></th>\n",
              "      <th></th>\n",
              "    </tr>\n",
              "  </thead>\n",
              "  <tbody>\n",
              "    <tr>\n",
              "      <th>2020-01-02</th>\n",
              "      <td>74.059998</td>\n",
              "      <td>75.150002</td>\n",
              "      <td>73.797501</td>\n",
              "      <td>75.087502</td>\n",
              "      <td>72.960464</td>\n",
              "      <td>135480400</td>\n",
              "    </tr>\n",
              "    <tr>\n",
              "      <th>2020-01-03</th>\n",
              "      <td>74.287498</td>\n",
              "      <td>75.144997</td>\n",
              "      <td>74.125000</td>\n",
              "      <td>74.357498</td>\n",
              "      <td>72.251152</td>\n",
              "      <td>146322800</td>\n",
              "    </tr>\n",
              "    <tr>\n",
              "      <th>2020-01-06</th>\n",
              "      <td>73.447502</td>\n",
              "      <td>74.989998</td>\n",
              "      <td>73.187500</td>\n",
              "      <td>74.949997</td>\n",
              "      <td>72.826866</td>\n",
              "      <td>118387200</td>\n",
              "    </tr>\n",
              "    <tr>\n",
              "      <th>2020-01-07</th>\n",
              "      <td>74.959999</td>\n",
              "      <td>75.224998</td>\n",
              "      <td>74.370003</td>\n",
              "      <td>74.597504</td>\n",
              "      <td>72.484329</td>\n",
              "      <td>108872000</td>\n",
              "    </tr>\n",
              "    <tr>\n",
              "      <th>2020-01-08</th>\n",
              "      <td>74.290001</td>\n",
              "      <td>76.110001</td>\n",
              "      <td>74.290001</td>\n",
              "      <td>75.797501</td>\n",
              "      <td>73.650337</td>\n",
              "      <td>132079200</td>\n",
              "    </tr>\n",
              "    <tr>\n",
              "      <th>...</th>\n",
              "      <td>...</td>\n",
              "      <td>...</td>\n",
              "      <td>...</td>\n",
              "      <td>...</td>\n",
              "      <td>...</td>\n",
              "      <td>...</td>\n",
              "    </tr>\n",
              "    <tr>\n",
              "      <th>2024-06-27</th>\n",
              "      <td>214.690002</td>\n",
              "      <td>215.740005</td>\n",
              "      <td>212.350006</td>\n",
              "      <td>214.100006</td>\n",
              "      <td>214.100006</td>\n",
              "      <td>49772700</td>\n",
              "    </tr>\n",
              "    <tr>\n",
              "      <th>2024-06-28</th>\n",
              "      <td>215.770004</td>\n",
              "      <td>216.070007</td>\n",
              "      <td>210.300003</td>\n",
              "      <td>210.619995</td>\n",
              "      <td>210.619995</td>\n",
              "      <td>82542700</td>\n",
              "    </tr>\n",
              "    <tr>\n",
              "      <th>2024-07-01</th>\n",
              "      <td>212.089996</td>\n",
              "      <td>217.509995</td>\n",
              "      <td>211.919998</td>\n",
              "      <td>216.750000</td>\n",
              "      <td>216.750000</td>\n",
              "      <td>60402900</td>\n",
              "    </tr>\n",
              "    <tr>\n",
              "      <th>2024-07-02</th>\n",
              "      <td>216.149994</td>\n",
              "      <td>220.380005</td>\n",
              "      <td>215.100006</td>\n",
              "      <td>220.270004</td>\n",
              "      <td>220.270004</td>\n",
              "      <td>58046200</td>\n",
              "    </tr>\n",
              "    <tr>\n",
              "      <th>2024-07-03</th>\n",
              "      <td>220.000000</td>\n",
              "      <td>221.550003</td>\n",
              "      <td>219.029999</td>\n",
              "      <td>221.550003</td>\n",
              "      <td>221.550003</td>\n",
              "      <td>37369800</td>\n",
              "    </tr>\n",
              "  </tbody>\n",
              "</table>\n",
              "<p>1133 rows × 6 columns</p>\n",
              "</div>\n",
              "    <div class=\"colab-df-buttons\">\n",
              "\n",
              "  <div class=\"colab-df-container\">\n",
              "    <button class=\"colab-df-convert\" onclick=\"convertToInteractive('df-95cc3fc7-4d45-48c5-91f3-256e80e09d08')\"\n",
              "            title=\"Convert this dataframe to an interactive table.\"\n",
              "            style=\"display:none;\">\n",
              "\n",
              "  <svg xmlns=\"http://www.w3.org/2000/svg\" height=\"24px\" viewBox=\"0 -960 960 960\">\n",
              "    <path d=\"M120-120v-720h720v720H120Zm60-500h600v-160H180v160Zm220 220h160v-160H400v160Zm0 220h160v-160H400v160ZM180-400h160v-160H180v160Zm440 0h160v-160H620v160ZM180-180h160v-160H180v160Zm440 0h160v-160H620v160Z\"/>\n",
              "  </svg>\n",
              "    </button>\n",
              "\n",
              "  <style>\n",
              "    .colab-df-container {\n",
              "      display:flex;\n",
              "      gap: 12px;\n",
              "    }\n",
              "\n",
              "    .colab-df-convert {\n",
              "      background-color: #E8F0FE;\n",
              "      border: none;\n",
              "      border-radius: 50%;\n",
              "      cursor: pointer;\n",
              "      display: none;\n",
              "      fill: #1967D2;\n",
              "      height: 32px;\n",
              "      padding: 0 0 0 0;\n",
              "      width: 32px;\n",
              "    }\n",
              "\n",
              "    .colab-df-convert:hover {\n",
              "      background-color: #E2EBFA;\n",
              "      box-shadow: 0px 1px 2px rgba(60, 64, 67, 0.3), 0px 1px 3px 1px rgba(60, 64, 67, 0.15);\n",
              "      fill: #174EA6;\n",
              "    }\n",
              "\n",
              "    .colab-df-buttons div {\n",
              "      margin-bottom: 4px;\n",
              "    }\n",
              "\n",
              "    [theme=dark] .colab-df-convert {\n",
              "      background-color: #3B4455;\n",
              "      fill: #D2E3FC;\n",
              "    }\n",
              "\n",
              "    [theme=dark] .colab-df-convert:hover {\n",
              "      background-color: #434B5C;\n",
              "      box-shadow: 0px 1px 3px 1px rgba(0, 0, 0, 0.15);\n",
              "      filter: drop-shadow(0px 1px 2px rgba(0, 0, 0, 0.3));\n",
              "      fill: #FFFFFF;\n",
              "    }\n",
              "  </style>\n",
              "\n",
              "    <script>\n",
              "      const buttonEl =\n",
              "        document.querySelector('#df-95cc3fc7-4d45-48c5-91f3-256e80e09d08 button.colab-df-convert');\n",
              "      buttonEl.style.display =\n",
              "        google.colab.kernel.accessAllowed ? 'block' : 'none';\n",
              "\n",
              "      async function convertToInteractive(key) {\n",
              "        const element = document.querySelector('#df-95cc3fc7-4d45-48c5-91f3-256e80e09d08');\n",
              "        const dataTable =\n",
              "          await google.colab.kernel.invokeFunction('convertToInteractive',\n",
              "                                                    [key], {});\n",
              "        if (!dataTable) return;\n",
              "\n",
              "        const docLinkHtml = 'Like what you see? Visit the ' +\n",
              "          '<a target=\"_blank\" href=https://colab.research.google.com/notebooks/data_table.ipynb>data table notebook</a>'\n",
              "          + ' to learn more about interactive tables.';\n",
              "        element.innerHTML = '';\n",
              "        dataTable['output_type'] = 'display_data';\n",
              "        await google.colab.output.renderOutput(dataTable, element);\n",
              "        const docLink = document.createElement('div');\n",
              "        docLink.innerHTML = docLinkHtml;\n",
              "        element.appendChild(docLink);\n",
              "      }\n",
              "    </script>\n",
              "  </div>\n",
              "\n",
              "\n",
              "<div id=\"df-5d0be0f3-10e0-4a3e-8c3a-4ef427994362\">\n",
              "  <button class=\"colab-df-quickchart\" onclick=\"quickchart('df-5d0be0f3-10e0-4a3e-8c3a-4ef427994362')\"\n",
              "            title=\"Suggest charts\"\n",
              "            style=\"display:none;\">\n",
              "\n",
              "<svg xmlns=\"http://www.w3.org/2000/svg\" height=\"24px\"viewBox=\"0 0 24 24\"\n",
              "     width=\"24px\">\n",
              "    <g>\n",
              "        <path d=\"M19 3H5c-1.1 0-2 .9-2 2v14c0 1.1.9 2 2 2h14c1.1 0 2-.9 2-2V5c0-1.1-.9-2-2-2zM9 17H7v-7h2v7zm4 0h-2V7h2v10zm4 0h-2v-4h2v4z\"/>\n",
              "    </g>\n",
              "</svg>\n",
              "  </button>\n",
              "\n",
              "<style>\n",
              "  .colab-df-quickchart {\n",
              "      --bg-color: #E8F0FE;\n",
              "      --fill-color: #1967D2;\n",
              "      --hover-bg-color: #E2EBFA;\n",
              "      --hover-fill-color: #174EA6;\n",
              "      --disabled-fill-color: #AAA;\n",
              "      --disabled-bg-color: #DDD;\n",
              "  }\n",
              "\n",
              "  [theme=dark] .colab-df-quickchart {\n",
              "      --bg-color: #3B4455;\n",
              "      --fill-color: #D2E3FC;\n",
              "      --hover-bg-color: #434B5C;\n",
              "      --hover-fill-color: #FFFFFF;\n",
              "      --disabled-bg-color: #3B4455;\n",
              "      --disabled-fill-color: #666;\n",
              "  }\n",
              "\n",
              "  .colab-df-quickchart {\n",
              "    background-color: var(--bg-color);\n",
              "    border: none;\n",
              "    border-radius: 50%;\n",
              "    cursor: pointer;\n",
              "    display: none;\n",
              "    fill: var(--fill-color);\n",
              "    height: 32px;\n",
              "    padding: 0;\n",
              "    width: 32px;\n",
              "  }\n",
              "\n",
              "  .colab-df-quickchart:hover {\n",
              "    background-color: var(--hover-bg-color);\n",
              "    box-shadow: 0 1px 2px rgba(60, 64, 67, 0.3), 0 1px 3px 1px rgba(60, 64, 67, 0.15);\n",
              "    fill: var(--button-hover-fill-color);\n",
              "  }\n",
              "\n",
              "  .colab-df-quickchart-complete:disabled,\n",
              "  .colab-df-quickchart-complete:disabled:hover {\n",
              "    background-color: var(--disabled-bg-color);\n",
              "    fill: var(--disabled-fill-color);\n",
              "    box-shadow: none;\n",
              "  }\n",
              "\n",
              "  .colab-df-spinner {\n",
              "    border: 2px solid var(--fill-color);\n",
              "    border-color: transparent;\n",
              "    border-bottom-color: var(--fill-color);\n",
              "    animation:\n",
              "      spin 1s steps(1) infinite;\n",
              "  }\n",
              "\n",
              "  @keyframes spin {\n",
              "    0% {\n",
              "      border-color: transparent;\n",
              "      border-bottom-color: var(--fill-color);\n",
              "      border-left-color: var(--fill-color);\n",
              "    }\n",
              "    20% {\n",
              "      border-color: transparent;\n",
              "      border-left-color: var(--fill-color);\n",
              "      border-top-color: var(--fill-color);\n",
              "    }\n",
              "    30% {\n",
              "      border-color: transparent;\n",
              "      border-left-color: var(--fill-color);\n",
              "      border-top-color: var(--fill-color);\n",
              "      border-right-color: var(--fill-color);\n",
              "    }\n",
              "    40% {\n",
              "      border-color: transparent;\n",
              "      border-right-color: var(--fill-color);\n",
              "      border-top-color: var(--fill-color);\n",
              "    }\n",
              "    60% {\n",
              "      border-color: transparent;\n",
              "      border-right-color: var(--fill-color);\n",
              "    }\n",
              "    80% {\n",
              "      border-color: transparent;\n",
              "      border-right-color: var(--fill-color);\n",
              "      border-bottom-color: var(--fill-color);\n",
              "    }\n",
              "    90% {\n",
              "      border-color: transparent;\n",
              "      border-bottom-color: var(--fill-color);\n",
              "    }\n",
              "  }\n",
              "</style>\n",
              "\n",
              "  <script>\n",
              "    async function quickchart(key) {\n",
              "      const quickchartButtonEl =\n",
              "        document.querySelector('#' + key + ' button');\n",
              "      quickchartButtonEl.disabled = true;  // To prevent multiple clicks.\n",
              "      quickchartButtonEl.classList.add('colab-df-spinner');\n",
              "      try {\n",
              "        const charts = await google.colab.kernel.invokeFunction(\n",
              "            'suggestCharts', [key], {});\n",
              "      } catch (error) {\n",
              "        console.error('Error during call to suggestCharts:', error);\n",
              "      }\n",
              "      quickchartButtonEl.classList.remove('colab-df-spinner');\n",
              "      quickchartButtonEl.classList.add('colab-df-quickchart-complete');\n",
              "    }\n",
              "    (() => {\n",
              "      let quickchartButtonEl =\n",
              "        document.querySelector('#df-5d0be0f3-10e0-4a3e-8c3a-4ef427994362 button');\n",
              "      quickchartButtonEl.style.display =\n",
              "        google.colab.kernel.accessAllowed ? 'block' : 'none';\n",
              "    })();\n",
              "  </script>\n",
              "</div>\n",
              "\n",
              "  <div id=\"id_1200580f-8ee5-40a1-8901-3911a5e9ef69\">\n",
              "    <style>\n",
              "      .colab-df-generate {\n",
              "        background-color: #E8F0FE;\n",
              "        border: none;\n",
              "        border-radius: 50%;\n",
              "        cursor: pointer;\n",
              "        display: none;\n",
              "        fill: #1967D2;\n",
              "        height: 32px;\n",
              "        padding: 0 0 0 0;\n",
              "        width: 32px;\n",
              "      }\n",
              "\n",
              "      .colab-df-generate:hover {\n",
              "        background-color: #E2EBFA;\n",
              "        box-shadow: 0px 1px 2px rgba(60, 64, 67, 0.3), 0px 1px 3px 1px rgba(60, 64, 67, 0.15);\n",
              "        fill: #174EA6;\n",
              "      }\n",
              "\n",
              "      [theme=dark] .colab-df-generate {\n",
              "        background-color: #3B4455;\n",
              "        fill: #D2E3FC;\n",
              "      }\n",
              "\n",
              "      [theme=dark] .colab-df-generate:hover {\n",
              "        background-color: #434B5C;\n",
              "        box-shadow: 0px 1px 3px 1px rgba(0, 0, 0, 0.15);\n",
              "        filter: drop-shadow(0px 1px 2px rgba(0, 0, 0, 0.3));\n",
              "        fill: #FFFFFF;\n",
              "      }\n",
              "    </style>\n",
              "    <button class=\"colab-df-generate\" onclick=\"generateWithVariable('df')\"\n",
              "            title=\"Generate code using this dataframe.\"\n",
              "            style=\"display:none;\">\n",
              "\n",
              "  <svg xmlns=\"http://www.w3.org/2000/svg\" height=\"24px\"viewBox=\"0 0 24 24\"\n",
              "       width=\"24px\">\n",
              "    <path d=\"M7,19H8.4L18.45,9,17,7.55,7,17.6ZM5,21V16.75L18.45,3.32a2,2,0,0,1,2.83,0l1.4,1.43a1.91,1.91,0,0,1,.58,1.4,1.91,1.91,0,0,1-.58,1.4L9.25,21ZM18.45,9,17,7.55Zm-12,3A5.31,5.31,0,0,0,4.9,8.1,5.31,5.31,0,0,0,1,6.5,5.31,5.31,0,0,0,4.9,4.9,5.31,5.31,0,0,0,6.5,1,5.31,5.31,0,0,0,8.1,4.9,5.31,5.31,0,0,0,12,6.5,5.46,5.46,0,0,0,6.5,12Z\"/>\n",
              "  </svg>\n",
              "    </button>\n",
              "    <script>\n",
              "      (() => {\n",
              "      const buttonEl =\n",
              "        document.querySelector('#id_1200580f-8ee5-40a1-8901-3911a5e9ef69 button.colab-df-generate');\n",
              "      buttonEl.style.display =\n",
              "        google.colab.kernel.accessAllowed ? 'block' : 'none';\n",
              "\n",
              "      buttonEl.onclick = () => {\n",
              "        google.colab.notebook.generateWithVariable('df');\n",
              "      }\n",
              "      })();\n",
              "    </script>\n",
              "  </div>\n",
              "\n",
              "    </div>\n",
              "  </div>\n"
            ],
            "application/vnd.google.colaboratory.intrinsic+json": {
              "type": "dataframe",
              "variable_name": "df",
              "summary": "{\n  \"name\": \"df\",\n  \"rows\": 1133,\n  \"fields\": [\n    {\n      \"column\": \"Date\",\n      \"properties\": {\n        \"dtype\": \"date\",\n        \"min\": \"2020-01-02 00:00:00\",\n        \"max\": \"2024-07-03 00:00:00\",\n        \"num_unique_values\": 1133,\n        \"samples\": [\n          \"2023-02-10 00:00:00\",\n          \"2023-07-28 00:00:00\",\n          \"2021-08-23 00:00:00\"\n        ],\n        \"semantic_type\": \"\",\n        \"description\": \"\"\n      }\n    },\n    {\n      \"column\": \"Open\",\n      \"properties\": {\n        \"dtype\": \"number\",\n        \"std\": 34.64499273521243,\n        \"min\": 57.02000045776367,\n        \"max\": 220.0,\n        \"num_unique_values\": 1071,\n        \"samples\": [\n          105.16999816894531,\n          161.83999633789062,\n          123.66000366210938\n        ],\n        \"semantic_type\": \"\",\n        \"description\": \"\"\n      }\n    },\n    {\n      \"column\": \"High\",\n      \"properties\": {\n        \"dtype\": \"number\",\n        \"std\": 34.781967457461924,\n        \"min\": 57.125,\n        \"max\": 221.5500030517578,\n        \"num_unique_values\": 1075,\n        \"samples\": [\n          144.3800048828125,\n          133.0399932861328,\n          123.5199966430664\n        ],\n        \"semantic_type\": \"\",\n        \"description\": \"\"\n      }\n    },\n    {\n      \"column\": \"Low\",\n      \"properties\": {\n        \"dtype\": \"number\",\n        \"std\": 34.52439005136661,\n        \"min\": 53.15250015258789,\n        \"max\": 219.02999877929688,\n        \"num_unique_values\": 1085,\n        \"samples\": [\n          150.4199981689453,\n          58.57500076293945,\n          190.8300018310547\n        ],\n        \"semantic_type\": \"\",\n        \"description\": \"\"\n      }\n    },\n    {\n      \"column\": \"Close\",\n      \"properties\": {\n        \"dtype\": \"number\",\n        \"std\": 34.653957384810255,\n        \"min\": 56.092498779296875,\n        \"max\": 221.5500030517578,\n        \"num_unique_values\": 1073,\n        \"samples\": [\n          181.16000366210938,\n          154.64999389648438,\n          213.25\n        ],\n        \"semantic_type\": \"\",\n        \"description\": \"\"\n      }\n    },\n    {\n      \"column\": \"Adj Close\",\n      \"properties\": {\n        \"dtype\": \"number\",\n        \"std\": 35.114606083957376,\n        \"min\": 54.632896423339844,\n        \"max\": 221.5500030517578,\n        \"num_unique_values\": 1120,\n        \"samples\": [\n          125.6736068725586,\n          77.70194244384766,\n          187.51605224609375\n        ],\n        \"semantic_type\": \"\",\n        \"description\": \"\"\n      }\n    },\n    {\n      \"column\": \"Volume\",\n      \"properties\": {\n        \"dtype\": \"number\",\n        \"std\": 53332164,\n        \"min\": 24048300,\n        \"max\": 426510000,\n        \"num_unique_values\": 1131,\n        \"samples\": [\n          61707600,\n          35175100,\n          60131800\n        ],\n        \"semantic_type\": \"\",\n        \"description\": \"\"\n      }\n    }\n  ]\n}"
            }
          },
          "metadata": {},
          "execution_count": 3
        }
      ]
    },
    {
      "cell_type": "code",
      "source": [
        "# Scaling data\n",
        "scaler = MinMaxScaler(feature_range=(0,1))\n",
        "scaled_data = scaler.fit_transform(df['Close'].values.reshape(-1,1))\n",
        "print(scaled_data)\n"
      ],
      "metadata": {
        "colab": {
          "base_uri": "https://localhost:8080/"
        },
        "id": "sqMiPq9YBg6a",
        "outputId": "aeaa5f83-051d-419a-adc9-519fed6f0c64"
      },
      "execution_count": 4,
      "outputs": [
        {
          "output_type": "stream",
          "name": "stdout",
          "text": [
            "[[0.11480291]\n",
            " [0.11039088]\n",
            " [0.11397185]\n",
            " ...\n",
            " [0.97098951]\n",
            " [0.99226388]\n",
            " [1.        ]]\n"
          ]
        }
      ]
    },
    {
      "cell_type": "code",
      "source": [
        "# Creating sequences\n",
        "def create_sequences(data, sequence_length):\n",
        "    xs, ys = [], []\n",
        "    for i in range(len(data) - sequence_length):\n",
        "        x = data[i:i + sequence_length]\n",
        "        y = data[i + sequence_length]\n",
        "        xs.append(x)\n",
        "        ys.append(y)\n",
        "    return np.array(xs), np.array(ys)\n",
        "\n",
        "sequence_length = 60\n",
        "X, y = create_sequences(scaled_data, sequence_length)"
      ],
      "metadata": {
        "id": "8UPBKe4THEmT"
      },
      "execution_count": 5,
      "outputs": []
    },
    {
      "cell_type": "code",
      "source": [
        "X , y"
      ],
      "metadata": {
        "colab": {
          "base_uri": "https://localhost:8080/"
        },
        "id": "4QUABHqmJKyu",
        "outputId": "2d34fb4d-ec70-4391-f88d-0f5f215887c7"
      },
      "execution_count": 7,
      "outputs": [
        {
          "output_type": "execute_result",
          "data": {
            "text/plain": [
              "(array([[[0.11480291],\n",
              "         [0.11039088],\n",
              "         [0.11397185],\n",
              "         ...,\n",
              "         [0.03195686],\n",
              "         [0.05147849],\n",
              "         [0.0353112 ]],\n",
              " \n",
              "        [[0.11039088],\n",
              "         [0.11397185],\n",
              "         [0.11184144],\n",
              "         ...,\n",
              "         [0.05147849],\n",
              "         [0.0353112 ],\n",
              "         [0.04599369]],\n",
              " \n",
              "        [[0.11397185],\n",
              "         [0.11184144],\n",
              "         [0.11909404],\n",
              "         ...,\n",
              "         [0.0353112 ],\n",
              "         [0.04599369],\n",
              "         [0.04520798]],\n",
              " \n",
              "        ...,\n",
              " \n",
              "        [[0.68130792],\n",
              "         [0.68590121],\n",
              "         [0.67907164],\n",
              "         ...,\n",
              "         [0.94983604],\n",
              "         [0.95497335],\n",
              "         [0.93394069]],\n",
              " \n",
              "        [[0.68590121],\n",
              "         [0.67907164],\n",
              "         [0.68644514],\n",
              "         ...,\n",
              "         [0.95497335],\n",
              "         [0.93394069],\n",
              "         [0.97098951]],\n",
              " \n",
              "        [[0.67907164],\n",
              "         [0.68644514],\n",
              "         [0.67502227],\n",
              "         ...,\n",
              "         [0.93394069],\n",
              "         [0.97098951],\n",
              "         [0.99226388]]]),\n",
              " array([[0.04599369],\n",
              "        [0.04520798],\n",
              "        [0.02499132],\n",
              "        ...,\n",
              "        [0.97098951],\n",
              "        [0.99226388],\n",
              "        [1.        ]]))"
            ]
          },
          "metadata": {},
          "execution_count": 7
        }
      ]
    },
    {
      "cell_type": "code",
      "source": [
        "# Splitting into training and testing sets\n",
        "split = int(0.8 * len(X))\n",
        "X_train, X_test = X[:split], X[split:]\n",
        "y_train, y_test = y[:split], y[split:]"
      ],
      "metadata": {
        "id": "8xOUdTG5Iwgp"
      },
      "execution_count": 9,
      "outputs": []
    },
    {
      "cell_type": "code",
      "source": [
        "# Reshaping for RNN/LSTM input\n",
        "X_train = X_train.reshape((X_train.shape[0], X_train.shape[1], 1))\n",
        "X_test = X_test.reshape((X_test.shape[0], X_test.shape[1], 1))"
      ],
      "metadata": {
        "id": "tOw-6NroIlup"
      },
      "execution_count": 10,
      "outputs": []
    },
    {
      "cell_type": "code",
      "source": [
        "# Building and training RNN model\n",
        "model_rnn = Sequential()\n",
        "model_rnn.add(SimpleRNN(50, activation='relu', input_shape=(sequence_length, 1)))\n",
        "model_rnn.add(Dense(1))\n",
        "model_rnn.compile(optimizer='adam', loss='mse')\n",
        "model_rnn.fit(X_train, y_train, epochs=20, batch_size=32, validation_split=0.2)"
      ],
      "metadata": {
        "colab": {
          "base_uri": "https://localhost:8080/"
        },
        "id": "vz-cGO6xJ1pZ",
        "outputId": "efc4288c-8a2f-498e-c29e-b9f3df830501"
      },
      "execution_count": 11,
      "outputs": [
        {
          "output_type": "stream",
          "name": "stdout",
          "text": [
            "Epoch 1/20\n",
            "22/22 [==============================] - 4s 71ms/step - loss: 0.0257 - val_loss: 4.2693e-04\n",
            "Epoch 2/20\n",
            "22/22 [==============================] - 2s 83ms/step - loss: 0.0015 - val_loss: 4.4249e-04\n",
            "Epoch 3/20\n",
            "22/22 [==============================] - 1s 34ms/step - loss: 6.0914e-04 - val_loss: 4.8636e-04\n",
            "Epoch 4/20\n",
            "22/22 [==============================] - 1s 35ms/step - loss: 4.6064e-04 - val_loss: 4.6461e-04\n",
            "Epoch 5/20\n",
            "22/22 [==============================] - 1s 36ms/step - loss: 4.1137e-04 - val_loss: 2.9312e-04\n",
            "Epoch 6/20\n",
            "22/22 [==============================] - 1s 35ms/step - loss: 4.1614e-04 - val_loss: 3.0900e-04\n",
            "Epoch 7/20\n",
            "22/22 [==============================] - 1s 35ms/step - loss: 3.9253e-04 - val_loss: 2.8318e-04\n",
            "Epoch 8/20\n",
            "22/22 [==============================] - 1s 36ms/step - loss: 3.9458e-04 - val_loss: 4.8360e-04\n",
            "Epoch 9/20\n",
            "22/22 [==============================] - 1s 36ms/step - loss: 4.2973e-04 - val_loss: 4.0197e-04\n",
            "Epoch 10/20\n",
            "22/22 [==============================] - 1s 34ms/step - loss: 4.1227e-04 - val_loss: 2.7941e-04\n",
            "Epoch 11/20\n",
            "22/22 [==============================] - 1s 33ms/step - loss: 3.8473e-04 - val_loss: 3.3459e-04\n",
            "Epoch 12/20\n",
            "22/22 [==============================] - 1s 35ms/step - loss: 3.9459e-04 - val_loss: 2.6794e-04\n",
            "Epoch 13/20\n",
            "22/22 [==============================] - 1s 35ms/step - loss: 3.9686e-04 - val_loss: 4.0565e-04\n",
            "Epoch 14/20\n",
            "22/22 [==============================] - 1s 35ms/step - loss: 4.4284e-04 - val_loss: 2.6900e-04\n",
            "Epoch 15/20\n",
            "22/22 [==============================] - 1s 35ms/step - loss: 4.0129e-04 - val_loss: 4.1365e-04\n",
            "Epoch 16/20\n",
            "22/22 [==============================] - 1s 60ms/step - loss: 3.7790e-04 - val_loss: 2.5824e-04\n",
            "Epoch 17/20\n",
            "22/22 [==============================] - 1s 59ms/step - loss: 3.7006e-04 - val_loss: 3.8598e-04\n",
            "Epoch 18/20\n",
            "22/22 [==============================] - 1s 35ms/step - loss: 3.9633e-04 - val_loss: 3.1323e-04\n",
            "Epoch 19/20\n",
            "22/22 [==============================] - 1s 37ms/step - loss: 3.7151e-04 - val_loss: 2.5196e-04\n",
            "Epoch 20/20\n",
            "22/22 [==============================] - 1s 34ms/step - loss: 3.9701e-04 - val_loss: 2.5118e-04\n"
          ]
        },
        {
          "output_type": "execute_result",
          "data": {
            "text/plain": [
              "<keras.src.callbacks.History at 0x7e4d52d787f0>"
            ]
          },
          "metadata": {},
          "execution_count": 11
        }
      ]
    },
    {
      "cell_type": "code",
      "source": [
        "# Building and training LSTM model\n",
        "model_lstm = Sequential()\n",
        "model_lstm.add(LSTM(50, activation='relu', input_shape=(sequence_length, 1)))\n",
        "model_lstm.add(Dense(1))\n",
        "model_lstm.compile(optimizer='adam', loss='mse')\n",
        "model_lstm.fit(X_train, y_train, epochs=40, batch_size=32, validation_split=0.2)\n"
      ],
      "metadata": {
        "colab": {
          "base_uri": "https://localhost:8080/"
        },
        "id": "vVHrBQr9Kial",
        "outputId": "19b0dd24-628c-42d7-d521-b6b0ddf6731e"
      },
      "execution_count": 12,
      "outputs": [
        {
          "output_type": "stream",
          "name": "stderr",
          "text": [
            "WARNING:tensorflow:Layer lstm will not use cuDNN kernels since it doesn't meet the criteria. It will use a generic GPU kernel as fallback when running on GPU.\n"
          ]
        },
        {
          "output_type": "stream",
          "name": "stdout",
          "text": [
            "Epoch 1/40\n",
            "22/22 [==============================] - 3s 75ms/step - loss: 0.0673 - val_loss: 0.0181\n",
            "Epoch 2/40\n",
            "22/22 [==============================] - 1s 63ms/step - loss: 0.0034 - val_loss: 0.0012\n",
            "Epoch 3/40\n",
            "22/22 [==============================] - 2s 83ms/step - loss: 0.0015 - val_loss: 0.0011\n",
            "Epoch 4/40\n",
            "22/22 [==============================] - 2s 109ms/step - loss: 0.0011 - val_loss: 0.0012\n",
            "Epoch 5/40\n",
            "22/22 [==============================] - 1s 62ms/step - loss: 0.0010 - val_loss: 0.0011\n",
            "Epoch 6/40\n",
            "22/22 [==============================] - 1s 62ms/step - loss: 9.4222e-04 - val_loss: 9.5882e-04\n",
            "Epoch 7/40\n",
            "22/22 [==============================] - 1s 62ms/step - loss: 8.8692e-04 - val_loss: 8.9461e-04\n",
            "Epoch 8/40\n",
            "22/22 [==============================] - 1s 62ms/step - loss: 8.5603e-04 - val_loss: 8.3397e-04\n",
            "Epoch 9/40\n",
            "22/22 [==============================] - 1s 61ms/step - loss: 8.3449e-04 - val_loss: 9.1582e-04\n",
            "Epoch 10/40\n",
            "22/22 [==============================] - 1s 63ms/step - loss: 8.3677e-04 - val_loss: 7.3010e-04\n",
            "Epoch 11/40\n",
            "22/22 [==============================] - 1s 65ms/step - loss: 7.6669e-04 - val_loss: 6.9337e-04\n",
            "Epoch 12/40\n",
            "22/22 [==============================] - 2s 102ms/step - loss: 7.3607e-04 - val_loss: 7.0858e-04\n",
            "Epoch 13/40\n",
            "22/22 [==============================] - 2s 76ms/step - loss: 7.9351e-04 - val_loss: 6.9534e-04\n",
            "Epoch 14/40\n",
            "22/22 [==============================] - 1s 63ms/step - loss: 7.2485e-04 - val_loss: 6.8197e-04\n",
            "Epoch 15/40\n",
            "22/22 [==============================] - 2s 76ms/step - loss: 6.9075e-04 - val_loss: 5.6586e-04\n",
            "Epoch 16/40\n",
            "22/22 [==============================] - 1s 64ms/step - loss: 7.0237e-04 - val_loss: 5.3824e-04\n",
            "Epoch 17/40\n",
            "22/22 [==============================] - 1s 62ms/step - loss: 6.6863e-04 - val_loss: 5.1379e-04\n",
            "Epoch 18/40\n",
            "22/22 [==============================] - 1s 66ms/step - loss: 6.5740e-04 - val_loss: 5.8002e-04\n",
            "Epoch 19/40\n",
            "22/22 [==============================] - 1s 63ms/step - loss: 6.3921e-04 - val_loss: 5.7394e-04\n",
            "Epoch 20/40\n",
            "22/22 [==============================] - 2s 99ms/step - loss: 6.3622e-04 - val_loss: 4.9506e-04\n",
            "Epoch 21/40\n",
            "22/22 [==============================] - 2s 85ms/step - loss: 6.1511e-04 - val_loss: 5.4480e-04\n",
            "Epoch 22/40\n",
            "22/22 [==============================] - 1s 63ms/step - loss: 6.6234e-04 - val_loss: 5.8498e-04\n",
            "Epoch 23/40\n",
            "22/22 [==============================] - 1s 67ms/step - loss: 6.0769e-04 - val_loss: 4.8073e-04\n",
            "Epoch 24/40\n",
            "22/22 [==============================] - 1s 61ms/step - loss: 6.4721e-04 - val_loss: 4.1692e-04\n",
            "Epoch 25/40\n",
            "22/22 [==============================] - 1s 63ms/step - loss: 6.0836e-04 - val_loss: 5.0639e-04\n",
            "Epoch 26/40\n",
            "22/22 [==============================] - 1s 63ms/step - loss: 6.0963e-04 - val_loss: 4.7789e-04\n",
            "Epoch 27/40\n",
            "22/22 [==============================] - 1s 61ms/step - loss: 6.0014e-04 - val_loss: 4.6276e-04\n",
            "Epoch 28/40\n",
            "22/22 [==============================] - 2s 76ms/step - loss: 5.6477e-04 - val_loss: 3.7999e-04\n",
            "Epoch 29/40\n",
            "22/22 [==============================] - 2s 109ms/step - loss: 5.8047e-04 - val_loss: 4.3908e-04\n",
            "Epoch 30/40\n",
            "22/22 [==============================] - 1s 62ms/step - loss: 5.7420e-04 - val_loss: 3.7279e-04\n",
            "Epoch 31/40\n",
            "22/22 [==============================] - 1s 61ms/step - loss: 5.8128e-04 - val_loss: 4.3999e-04\n",
            "Epoch 32/40\n",
            "22/22 [==============================] - 1s 62ms/step - loss: 5.5416e-04 - val_loss: 3.6230e-04\n",
            "Epoch 33/40\n",
            "22/22 [==============================] - 1s 62ms/step - loss: 5.3603e-04 - val_loss: 4.5715e-04\n",
            "Epoch 34/40\n",
            "22/22 [==============================] - 1s 61ms/step - loss: 5.3506e-04 - val_loss: 3.9546e-04\n",
            "Epoch 35/40\n",
            "22/22 [==============================] - 1s 60ms/step - loss: 5.2337e-04 - val_loss: 6.9239e-04\n",
            "Epoch 36/40\n",
            "22/22 [==============================] - 1s 62ms/step - loss: 5.6793e-04 - val_loss: 4.4308e-04\n",
            "Epoch 37/40\n",
            "22/22 [==============================] - 2s 94ms/step - loss: 5.1334e-04 - val_loss: 4.4111e-04\n",
            "Epoch 38/40\n",
            "22/22 [==============================] - 2s 84ms/step - loss: 5.1282e-04 - val_loss: 5.2574e-04\n",
            "Epoch 39/40\n",
            "22/22 [==============================] - 1s 61ms/step - loss: 5.0734e-04 - val_loss: 3.5197e-04\n",
            "Epoch 40/40\n",
            "22/22 [==============================] - 1s 63ms/step - loss: 5.0840e-04 - val_loss: 3.4445e-04\n"
          ]
        },
        {
          "output_type": "execute_result",
          "data": {
            "text/plain": [
              "<keras.src.callbacks.History at 0x7e4d501d6650>"
            ]
          },
          "metadata": {},
          "execution_count": 12
        }
      ]
    },
    {
      "cell_type": "code",
      "source": [
        "# Predictions\n",
        "predicted_rnn = model_rnn.predict(X_test)\n",
        "predicted_lstm = model_lstm.predict(X_test)"
      ],
      "metadata": {
        "colab": {
          "base_uri": "https://localhost:8080/"
        },
        "id": "KxeXXo7EKwk3",
        "outputId": "a4b1abfb-4dcf-4368-9ac8-99df8571dd04"
      },
      "execution_count": 13,
      "outputs": [
        {
          "output_type": "stream",
          "name": "stdout",
          "text": [
            "7/7 [==============================] - 0s 6ms/step\n",
            "7/7 [==============================] - 0s 10ms/step\n"
          ]
        }
      ]
    },
    {
      "cell_type": "code",
      "source": [
        "# Inverse scaling to get actual prices\n",
        "predicted_rnn = scaler.inverse_transform(predicted_rnn)\n",
        "predicted_lstm = scaler.inverse_transform(predicted_lstm)\n",
        "y_test_actual = scaler.inverse_transform(y_test.reshape(-1, 1))\n"
      ],
      "metadata": {
        "id": "DoRGU2P0LU6I"
      },
      "execution_count": 14,
      "outputs": []
    },
    {
      "cell_type": "code",
      "source": [
        "# Calculate MSE\n",
        "mse_rnn = mean_squared_error(y_test_actual, predicted_rnn)\n",
        "mse_lstm = mean_squared_error(y_test_actual, predicted_lstm)\n",
        "print(f'RNN MSE: {mse_rnn}')\n",
        "print(f'LSTM MSE: {mse_lstm}')"
      ],
      "metadata": {
        "colab": {
          "base_uri": "https://localhost:8080/"
        },
        "id": "kv75d_H9LhsH",
        "outputId": "c4bcaa7d-b607-4090-89d2-e717e7ddaebc"
      },
      "execution_count": 15,
      "outputs": [
        {
          "output_type": "stream",
          "name": "stdout",
          "text": [
            "RNN MSE: 11.031676724248786\n",
            "LSTM MSE: 14.8739438088968\n"
          ]
        }
      ]
    },
    {
      "cell_type": "code",
      "source": [
        "r2score_rnn = r2_score(y_test_actual, predicted_rnn)\n",
        "r2score_lstm = r2_score(y_test_actual, predicted_lstm)\n",
        "print(f'RNN R2Score: {r2score_rnn}')\n",
        "print(f'LSTM R2Score: {r2score_lstm}')"
      ],
      "metadata": {
        "colab": {
          "base_uri": "https://localhost:8080/"
        },
        "id": "Q0b3WN2xLqc4",
        "outputId": "fa469e21-f416-4a16-9793-c1e99cf77c31"
      },
      "execution_count": 16,
      "outputs": [
        {
          "output_type": "stream",
          "name": "stdout",
          "text": [
            "RNN R2Score: 0.9218609298768329\n",
            "LSTM R2Score: 0.8946455586631978\n"
          ]
        }
      ]
    },
    {
      "cell_type": "code",
      "source": [
        "# Predict the next day's price using both models\n",
        "last_sequence = scaled_data[-sequence_length:]\n",
        "last_sequence = last_sequence.reshape((1, sequence_length, 1))\n",
        "\n",
        "next_day_rnn = model_rnn.predict(last_sequence)\n",
        "next_day_lstm = model_lstm.predict(last_sequence)\n",
        "\n",
        "next_day_rnn = scaler.inverse_transform(next_day_rnn)\n",
        "next_day_lstm = scaler.inverse_transform(next_day_lstm)\n",
        "\n",
        "print(f'Predicted next day price (RNN): {next_day_rnn[0][0]}')\n",
        "print(f'Predicted next day price (LSTM): {next_day_lstm[0][0]}')"
      ],
      "metadata": {
        "colab": {
          "base_uri": "https://localhost:8080/"
        },
        "id": "M2XF9D13LxiX",
        "outputId": "33362a42-ceb2-42e8-b3d8-e8ac4a66b64e"
      },
      "execution_count": 17,
      "outputs": [
        {
          "output_type": "stream",
          "name": "stdout",
          "text": [
            "1/1 [==============================] - 0s 51ms/step\n",
            "1/1 [==============================] - 0s 136ms/step\n",
            "Predicted next day price (RNN): 217.692626953125\n",
            "Predicted next day price (LSTM): 218.74867248535156\n"
          ]
        }
      ]
    },
    {
      "cell_type": "code",
      "source": [
        "# Plotting the results\n",
        "plt.figure(figsize=(14, 5))\n",
        "plt.plot(y_test_actual, color='black', label='Actual Stock Price')\n",
        "plt.plot(predicted_rnn, color='green', label='Predicted Stock Price (RNN)')\n",
        "plt.plot(predicted_lstm, color='red', label='Predicted Stock Price (LSTM)')\n",
        "plt.title('Stock Price Prediction')\n",
        "plt.xlabel('Time')\n",
        "plt.ylabel('Stock Price')\n",
        "plt.legend()\n",
        "plt.show()"
      ],
      "metadata": {
        "colab": {
          "base_uri": "https://localhost:8080/",
          "height": 486
        },
        "id": "5iq2EvttMNnS",
        "outputId": "319a2bce-804e-4135-b53b-ca10fafe394a"
      },
      "execution_count": 18,
      "outputs": [
        {
          "output_type": "display_data",
          "data": {
            "text/plain": [
              "<Figure size 1400x500 with 1 Axes>"
            ],
            "image/png": "[encoded data removed]"
          },
          "metadata": {}
        }
      ]
    },
    {
      "cell_type": "code",
      "source": [],
      "metadata": {
        "id": "jYtkQZmAMwOn"
      },
      "execution_count": null,
      "outputs": []
    }
  ]
}