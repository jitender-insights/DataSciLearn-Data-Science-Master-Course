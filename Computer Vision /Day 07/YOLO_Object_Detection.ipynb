{
  "nbformat": 4,
  "nbformat_minor": 0,
  "metadata": {
    "colab": {
      "provenance": []
    },
    "kernelspec": {
      "name": "python3",
      "display_name": "Python 3"
    },
    "language_info": {
      "name": "python"
    }
  },
  "cells": [
    {
      "cell_type": "markdown",
      "source": [
        "# Notebook link:\n",
        "\n",
        "https://colab.research.google.com/drive/17sapIpQQf1wTE_Y5XKxe6HvT3hIu1bIR?usp=sharing"
      ],
      "metadata": {
        "id": "RGg-mGAEsNcA"
      }
    }
  ]
}