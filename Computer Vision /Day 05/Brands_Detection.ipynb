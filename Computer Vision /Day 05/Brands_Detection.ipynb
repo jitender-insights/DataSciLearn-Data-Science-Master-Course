{
 "cells": [
  {
   "cell_type": "code",
   "execution_count": 1,
   "id": "59a7daf9",
   "metadata": {},
   "outputs": [
    {
     "name": "stderr",
     "output_type": "stream",
     "text": [
      "C:\\Users\\Asus\\anaconda3\\lib\\site-packages\\pandas\\core\\computation\\expressions.py:21: UserWarning: Pandas requires version '2.8.4' or newer of 'numexpr' (version '2.8.3' currently installed).\n",
      "  from pandas.core.computation.check import NUMEXPR_INSTALLED\n",
      "C:\\Users\\Asus\\anaconda3\\lib\\site-packages\\pandas\\core\\arrays\\masked.py:60: UserWarning: Pandas requires version '1.3.6' or newer of 'bottleneck' (version '1.3.5' currently installed).\n",
      "  from pandas.core import (\n"
     ]
    }
   ],
   "source": [
    "import cv2 \n",
    "import pytesseract\n",
    "pytesseract.pytesseract.tesseract_cmd =  r\"C:\\Program Files\\Tesseract-OCR\\tesseract.exe\""
   ]
  },
  {
   "cell_type": "code",
   "execution_count": 75,
   "id": "c567f6ce",
   "metadata": {},
   "outputs": [],
   "source": [
    "#Load the image\n",
    "image = cv2.imread('flipkart.jpg')"
   ]
  },
  {
   "cell_type": "code",
   "execution_count": 76,
   "id": "e3a3561d",
   "metadata": {},
   "outputs": [],
   "source": [
    "# Convert to grayscale\n",
    "gray = cv2.cvtColor(image,cv2.COLOR_BGR2GRAY)"
   ]
  },
  {
   "cell_type": "code",
   "execution_count": 77,
   "id": "421f4683",
   "metadata": {},
   "outputs": [],
   "source": [
    "# Noise reduction\n",
    "gray = cv2.GaussianBlur(gray,(5,5),0)"
   ]
  },
  {
   "cell_type": "code",
   "execution_count": 78,
   "id": "2463c1a5",
   "metadata": {},
   "outputs": [],
   "source": [
    "# Edge detection\n",
    "edged = cv2.Canny(gray,30,150)"
   ]
  },
  {
   "cell_type": "code",
   "execution_count": 79,
   "id": "925f81b8",
   "metadata": {},
   "outputs": [],
   "source": [
    "# Find contours \n",
    "contours, _ = cv2.findContours(edged, cv2.RETR_EXTERNAL, cv2.CHAIN_APPROX_SIMPLE)"
   ]
  },
  {
   "cell_type": "code",
   "execution_count": 80,
   "id": "da7b2c16",
   "metadata": {},
   "outputs": [],
   "source": [
    "# Draw bounding boxes around contours \n",
    "for contour in contours:\n",
    "    x,y,w,h = cv2.boundingRect(contour)\n",
    "    cv2.rectangle(image,(x,y),(x+w,y+h),(0,255,0),2)\n"
   ]
  },
  {
   "cell_type": "code",
   "execution_count": 81,
   "id": "a90369ee",
   "metadata": {},
   "outputs": [],
   "source": [
    "text = pytesseract.image_to_string(gray)"
   ]
  },
  {
   "cell_type": "code",
   "execution_count": 82,
   "id": "f3b92f42",
   "metadata": {},
   "outputs": [
    {
     "name": "stdout",
     "output_type": "stream",
     "text": [
      "Detected Text: Flipkart 4\n",
      "\n"
     ]
    }
   ],
   "source": [
    "# Print detected text\n",
    "print(\"Detected Text:\", text)\n"
   ]
  },
  {
   "cell_type": "code",
   "execution_count": 90,
   "id": "680059f6",
   "metadata": {},
   "outputs": [],
   "source": [
    "# Display the image with bounding boxes\n",
    "cv2.imshow('Image', image)\n",
    "cv2.waitKey(0)\n",
    "cv2.destroyAllWindows()\n"
   ]
  },
  {
   "cell_type": "code",
   "execution_count": 91,
   "id": "c488044e",
   "metadata": {},
   "outputs": [],
   "source": [
    "# List of brand names for matching\n",
    "brand_names = [\"Nike\", \"Adidas\", \"Puma\", \"Apple\", \"Samsung\",\"Flipkart\"]\n"
   ]
  },
  {
   "cell_type": "code",
   "execution_count": 92,
   "id": "a882c9cb",
   "metadata": {},
   "outputs": [
    {
     "name": "stdout",
     "output_type": "stream",
     "text": [
      "Detected Brands: ['Flipkart']\n"
     ]
    }
   ],
   "source": [
    "# Match extracted text with brand names\n",
    "detected_brands = [brand for brand in brand_names if brand.lower() in text.lower()]\n",
    "print(\"Detected Brands:\", detected_brands)\n"
   ]
  },
  {
   "cell_type": "code",
   "execution_count": null,
   "id": "acac0264",
   "metadata": {},
   "outputs": [],
   "source": []
  }
 ],
 "metadata": {
  "kernelspec": {
   "display_name": "Python 3 (ipykernel)",
   "language": "python",
   "name": "python3"
  },
  "language_info": {
   "codemirror_mode": {
    "name": "ipython",
    "version": 3
   },
   "file_extension": ".py",
   "mimetype": "text/x-python",
   "name": "python",
   "nbconvert_exporter": "python",
   "pygments_lexer": "ipython3",
   "version": "3.9.13"
  }
 },
 "nbformat": 4,
 "nbformat_minor": 5
}
